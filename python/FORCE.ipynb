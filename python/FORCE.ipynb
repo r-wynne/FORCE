{
 "cells": [
  {
   "attachments": {},
   "cell_type": "markdown",
   "metadata": {},
   "source": [
    "# Factorized Observables to Regress Conditional Expectation (FORCE)\n",
    "## Hunting for New Physics with Factorization\n",
    "Ray Wynne and Eric M. Metodiev, MIT\n",
    "\n",
    "In this notebook, we implement a model-independent new physics search strategy, applied to the LHC Olympics 2020 [Development Dataset](https://zenodo.org/record/2629073#.XqLu_shKiUk). The dataset contains 1 million QCD events and up to 100k new physics events, $W' \\to XY$ with $m_{W'}=3.5$ TeV, $m_X = 500$ GeV, and $m_Y = 100$ GeV. Events are required to have at least one $R=1.0$ anti-$k_T$ jet with $p_T>1.2$ TeV. \n",
    "\n",
    "The key idea is to break your event into factorized objects (here, jets), and predict their kinematics $p_T$ from their scale and boost-invariant substructure $O$. In the broad case of factorized new physics, the kinematics and substructure of jets are distributed as:\n",
    "\n",
    "$$p(p_T, O) = f p_\\text{QCD}(p_T)p_\\text{QCD}(O) + (1-f) p_{\\text{BSM}}(p_T)p_{\\text{BSM}}(O)$$\n",
    "where $f$ is the fraction of new physics and $F_{i}$ accounts for the fractions of any new particle-types.\n",
    "\n",
    "A model $M$ trained to predict $p_T$ from $O$ with the mean squared error loss will approach the conditional expectation:\n",
    "\n",
    "$$M(O) = \\mathbb E(p_T | O).$$\n",
    "\n",
    "In the absence of new physics $(f=0)$, we expect $\\mathbb E(O_1|O_2) = \\mathbb E(O_1)$, i.e. the substructure of a jet carries no information about its kinematics.\n",
    "In this case, the model would learn to simply output a constant.\n",
    "By looking for deviations from this behavior, we can detect new types of jets in the data.\n",
    "You can prove that this strategy appraoches the optimal new physics classifier!"
   ]
  },
  {
   "attachments": {},
   "cell_type": "markdown",
   "metadata": {},
   "source": [
    "##### Library imports and plot style\n",
    "\n",
    "This analysis relies on the following easily-installable Python packages: `numpy`, `matplotlib`, `keras`, `tensorflow`, `sklearn` <br/>\n",
    "**Note**: If you do not have LaTeX set up with `matplotlib`, simply change `plt.rcParams['text.usetex']=False` below."
   ]
  },
  {
   "cell_type": "code",
   "execution_count": 1,
   "metadata": {
    "tags": []
   },
   "outputs": [],
   "source": [
    "# python library imports\n",
    "import numpy as np\n",
    "import matplotlib.pyplot as plt\n",
    "import pandas as pd\n",
    "import random\n",
    "import pickle\n",
    "from tqdm import tqdm\n",
    "\n",
    "# machine learning imports\n",
    "import keras\n",
    "import tensorflow as tf\n",
    "try:\n",
    "    # Disable all GPUS\n",
    "    tf.config.set_visible_devices([], 'GPU')\n",
    "    visible_devices = tf.config.get_visible_devices()\n",
    "    for device in visible_devices:\n",
    "        assert device.device_type != 'GPU'\n",
    "except:\n",
    "    # Invalid device or cannot modify virtual devices once initialized.\n",
    "    pass\n",
    "from tensorflow.keras import backend\n",
    "from keras.models import Sequential\n",
    "from keras.layers import Dense, BatchNormalization, Dropout, LeakyReLU\n",
    "from keras.wrappers.scikit_learn import KerasRegressor\n",
    "from sklearn.neural_network import MLPClassifier\n",
    "from tensorflow.keras import regularizers\n",
    "tf.config.run_functions_eagerly(False)\n",
    "\n",
    "from sklearn.feature_selection import VarianceThreshold\n",
    "\n",
    "\n",
    "# plot style commands\n",
    "import modplot\n",
    "plt.rcParams['figure.figsize'] = (6,4)\n",
    "plt.rcParams['text.usetex'] = True\n",
    "plt.rcParams['font.family'] = 'serif'\n",
    "plt.rcParams['figure.dpi']= 100\n",
    "\n",
    "import energyflow as ef\n",
    "\n",
    "\n",
    "import warnings\n",
    "warnings.filterwarnings(\"ignore\", category=DeprecationWarning) \n",
    "\n",
    "# os.chdir('python')\n",
    "from util import get_model, signal_sweep, nn_output_hist\n",
    "\n",
    "%reload_ext autoreload\n",
    "%autoreload 2"
   ]
  },
  {
   "attachments": {},
   "cell_type": "markdown",
   "metadata": {},
   "source": [
    "### Read in the events\n",
    "\n",
    "The events from the LHC Olympics dataset have been processed by `processing.py` and `observables.py` into a compact form.\n",
    "The dijet masses and, as our substructure observables, the first thirteen [energy flow polynomials](https://arxiv.org/pdf/1712.07124.pdf) (with $\\beta=1$, $z_i = p_{Ti}$, and $\\theta_{ij} = p_i^\\mu p_{j\\mu}/p_{Ti}p_{Tj}$) are precomputed for the leading two $R=1.0$ anti-$k_T$ jets.\n",
    "These observables arise from a universal energy and angle expansion, so they are suitable for model-agnostic search observables.\n",
    "\n",
    "**Note**: All of the jet constituents can be read in by uncommenting the `events` lines below if desired."
   ]
  },
  {
   "cell_type": "code",
   "execution_count": 2,
   "metadata": {
    "collapsed": false,
    "jupyter": {
     "outputs_hidden": false
    }
   },
   "outputs": [
    {
     "name": "stderr",
     "output_type": "stream",
     "text": [
      "/var/folders/ms/4vjyd3l14sn5wrwm880cg3y40000gn/T/ipykernel_43494/946461701.py:17: RuntimeWarning: invalid value encountered in divide\n",
      "  efps_normed_in = np.nan_to_num(np.clip(efps_in/efpnorms_in, a_min=0, a_max=1000))\n"
     ]
    }
   ],
   "source": [
    "# read in the R&D dataset from the LHC Olympics challenge\n",
    "filename = '/Users/raymondwynne/Desktop/FORCE/data/LHCO/LHCO_'\n",
    "\n",
    "# all of the constituents in the leading two jets of the event\n",
    "#events = np.concatenate([np.load(filename + 'jets_{}.npz'.format(k))['arr_0'] for k in range(11)])\n",
    "\n",
    "# the dijet masses and jet pTs of each of the events in the dataset\n",
    "dijetmasses_in = np.load(filename+'dijetmasses.npz')['arr_0']\n",
    "jetpts_in = np.load(filename+'jetpts.npz')['arr_0']\n",
    "\n",
    "# the first thirteen energy flow polynomials for each jet, shape: (num_events, 2, num_efps)\n",
    "efps_in = np.concatenate([np.load(filename+'efps_{}.npz'.format(k))['arr_0'] for k in range(11)])\n",
    "\n",
    "# normalize the EFPs to dimensionless boost invariant ones\n",
    "ns, ds =  np.asarray([1, 2, 2, 2, 3, 3, 3, 4, 4, 4, 4, 5, 6]), np.asarray([0, 1, 2, 3, 2, 3, 3, 3, 3, 2, 3, 3, 3])\n",
    "efpnorms_in = efps_in[:,:,0,np.newaxis]**(ns-2*ds) * efps_in[:,:,1,np.newaxis]**(ds)\n",
    "efps_normed_in = np.nan_to_num(np.clip(efps_in/efpnorms_in, a_min=0, a_max=1000))\n",
    "\n",
    "# labels as to whether the event was new physics or not. Used for validation only\n",
    "labels_in = np.concatenate([np.load(filename+'labels{}.npz'.format(k))['arr_0'] for k in range(11)])"
   ]
  },
  {
   "attachments": {},
   "cell_type": "markdown",
   "metadata": {},
   "source": [
    "### Specify the signal fraction\n",
    "\n",
    "We want to explore the method different new physics fractions beyond the maximum of 10% in the LHC Olympics dataset. To do this, we will distill the new physics fraction to a specified fraction `f`. By default, we use a 1% fraction of new physics.\n",
    "\n",
    "**Customize**: Change `f` to any new physics fraction (below 10%)."
   ]
  },
  {
   "cell_type": "code",
   "execution_count": 3,
   "metadata": {
    "collapsed": false,
    "jupyter": {
     "outputs_hidden": false
    }
   },
   "outputs": [
    {
     "name": "stdout",
     "output_type": "stream",
     "text": [
      "Dataset has 200000 events!\n"
     ]
    }
   ],
   "source": [
    "# target number of signal events\n",
    "background_subset = 100000\n",
    "signal_subset = 100000\n",
    "\n",
    "# keep all background events and the first \"count\" signal events\n",
    "mask_background = np.zeros(len(labels_in), dtype=bool)\n",
    "mask_signal = np.zeros(len(labels_in), dtype=bool)\n",
    "mask_background[random.sample(list(np.where(labels_in==0)[0]), background_subset)] = True\n",
    "mask_signal[random.sample(list(np.where(labels_in==1)[0]), 100000)] = True\n",
    "        \n",
    "# apply the filter and shuffle the data!\n",
    "nev_background = np.count_nonzero(mask_background)\n",
    "nev_signal = np.count_nonzero(mask_signal)\n",
    "nev = nev_background + nev_signal\n",
    "\n",
    "perm_background = np.random.permutation(nev_background)\n",
    "perm_signal = np.random.permutation(nev_signal)\n",
    "\n",
    "#events = events[mask][perm]\n",
    "labels_background, dijetmasses_background = (labels_in[mask_background][perm_background], dijetmasses_in[mask_background][perm_background])\n",
    "jetpts_background, jetpts_background_shuffle = (jetpts_in[mask_background][perm_background], jetpts_in[mask_background])\n",
    "efps_background_shuffle, efps_normed_background_shuffle = (efps_in[mask_background], efps_normed_in[mask_background])\n",
    "efps_background, efps_normed_background = (efps_in[mask_background][perm_background], efps_normed_in[mask_background][perm_background])\n",
    "\n",
    "labels_signal, dijetmasses_signal = (labels_in[mask_signal][perm_signal], dijetmasses_in[mask_signal][perm_signal])\n",
    "jetpts_signal, jetpts_signal_shuffle = (jetpts_in[mask_signal][perm_signal], jetpts_in[mask_signal])\n",
    "efps_signal_shuffle, efps_normed_signal_shuffle = (efps_in[mask_signal], efps_normed_in[mask_signal])\n",
    "efps_signal, efps_normed_signal = (efps_in[mask_signal][perm_signal], efps_normed_in[mask_signal][perm_signal])\n",
    "\n",
    "jetmasses_signal = 1000 * np.sqrt(efps_signal[:, :, 2]/2)\n",
    "jetmasses_background = 1000 * np.sqrt(efps_signal[:, :, 2]/2)\n",
    "\n",
    "perm_full = np.random.permutation(nev_background + nev_signal)\n",
    "\n",
    "labels = np.concatenate([labels_background, labels_signal])[perm_full]\n",
    "efps_normed = np.concatenate([efps_normed_background, efps_normed_signal])[perm_full]\n",
    "efps_normed_shuffle = np.concatenate([efps_normed_background_shuffle, efps_normed_signal_shuffle])[perm_full]\n",
    "efps = np.concatenate([efps_background, efps_signal])[perm_full]\n",
    "jetpts = np.concatenate([jetpts_background, jetpts_signal])[perm_full]\n",
    "jetpts_shuffle = np.concatenate([jetpts_background_shuffle, jetpts_signal_shuffle])[perm_full]\n",
    "dijetmasses = np.concatenate([dijetmasses_background, dijetmasses_signal])[perm_full]\n",
    "jetmasses = np.concatenate([jetmasses_background, jetmasses_signal])[perm_full]\n",
    "\n",
    "# number of events in the processed dataset\n",
    "print(\"Dataset has {} events!\".format(nev))"
   ]
  },
  {
   "attachments": {},
   "cell_type": "markdown",
   "metadata": {},
   "source": [
    "### Determine the neural network architecture\n",
    "\n",
    "For our machine learning architecture to learn from the energy flow polynomials, we will use a fully-connected neural network. Here, by default, we use a three-layer neural network with 100 nodes per layer and a ReLU activation.\n",
    "\n",
    "**Customize**: Change the network `layers` and activation function to change the network architecture."
   ]
  },
  {
   "cell_type": "code",
   "execution_count": 4,
   "metadata": {},
   "outputs": [
    {
     "name": "stderr",
     "output_type": "stream",
     "text": [
      "2023-11-27 14:20:55.514894: W tensorflow/tsl/platform/profile_utils/cpu_utils.cc:128] Failed to get CPU frequency: 0 Hz\n"
     ]
    },
    {
     "data": {
      "text/plain": [
       "<keras.callbacks.History at 0x314bc3430>"
      ]
     },
     "execution_count": 4,
     "metadata": {},
     "output_type": "execute_result"
    }
   ],
   "source": [
    "f = 0.05\n",
    "fs = f / (1-f)\n",
    "\n",
    "results = pd.DataFrame()\n",
    "models = {}\n",
    "efp_filt = [2, 3, 4, 5, 6, 7, 8]\n",
    "labels_flatten = pd.DataFrame(np.concatenate([labels, labels]))\n",
    "sample_weight = pd.DataFrame(np.where(labels_flatten == 1, fs, 1))\n",
    "\n",
    "\n",
    "X = VarianceThreshold().fit_transform(np.concatenate((efps_normed[:,0,:], efps_normed[:,1,:]))[:,efp_filt])\n",
    "y  = np.concatenate((jetpts[:,0]/1000, jetpts[:,1]/1000))\n",
    "layers = [100, 100, 100]\n",
    "\n",
    "model = get_model(layers=layers, ninputs=7)\n",
    "earlystopping = keras.callbacks.EarlyStopping(monitor='val_loss', patience=10)\n",
    "model.fit(X, y, sample_weight=sample_weight, batch_size=10000, epochs=1000, verbose=0, validation_split=0.1, callbacks=[earlystopping])"
   ]
  },
  {
   "attachments": {},
   "cell_type": "markdown",
   "metadata": {},
   "source": [
    "### Visualize the neural network output"
   ]
  },
  {
   "cell_type": "code",
   "execution_count": 5,
   "metadata": {},
   "outputs": [
    {
     "name": "stdout",
     "output_type": "stream",
     "text": [
      "400/400 [==============================] - 0s 684us/step\n"
     ]
    },
    {
     "data": {
      "image/png": "[encoded data removed]",
      "text/plain": [
       "<Figure size 600x400 with 1 Axes>"
      ]
     },
     "metadata": {},
     "output_type": "display_data"
    }
   ],
   "source": [
    "preds = model.predict(X, batch_size=1000)\n",
    "\n",
    "nn_output_hist(preds, labels, y, fs)"
   ]
  },
  {
   "attachments": {},
   "cell_type": "markdown",
   "metadata": {},
   "source": [
    "### Run a $f_S$ sensitivity sweep\n",
    "\n",
    "To determine the sensitivity of the method for different $f_S$, we apply the FORCE method to a logarithmic sweep of signal fractions. For stability, we average mutliple runs for an individual model, then repeat this process to get statistics. \n",
    "\n",
    "Note: this is quite computationally expensive and will take a while to run. Furthermore, results may differ depending on the network architecture and training dynamics that are chosen. Making the method more stable is part of future work."
   ]
  },
  {
   "cell_type": "code",
   "execution_count": 65,
   "metadata": {},
   "outputs": [],
   "source": [
    "fs = [0, 0.5, 0.0005, 0.005, 0.05]\n",
    "\n",
    "signal_weights = [f / (1-f) for f in fs]\n",
    "\n",
    "results = pd.DataFrame()\n",
    "models = {}\n",
    "efp_filt = [2, 3, 4, 5, 6, 7, 8]\n",
    "labels_flatten = pd.DataFrame(np.concatenate([labels, labels]))\n",
    "\n",
    "\n",
    "X = VarianceThreshold().fit_transform(np.concatenate((efps_normed[:,0,:], efps_normed[:,1,:]))[:,efp_filt])\n",
    "y  = np.concatenate((jetpts[:,0]/1000, jetpts[:,1]/1000))\n",
    "layers = [100, 100, 100]\n",
    "\n",
    "\n",
    "for signal_weight in tqdm(signal_weights):\n",
    "    result, models_full = signal_sweep(X, y, labels, signal_weight, layers)\n",
    "    results = pd.concat([results, result])\n",
    "    models[signal_weight] = models_full"
   ]
  }
 ],
 "metadata": {
  "anaconda-cloud": {},
  "kernelspec": {
   "display_name": "Python 3",
   "language": "python",
   "name": "python3"
  },
  "language_info": {
   "codemirror_mode": {
    "name": "ipython",
    "version": 3
   },
   "file_extension": ".py",
   "mimetype": "text/x-python",
   "name": "python",
   "nbconvert_exporter": "python",
   "pygments_lexer": "ipython3",
   "version": "3.10.9"
  }
 },
 "nbformat": 4,
 "nbformat_minor": 4
}
